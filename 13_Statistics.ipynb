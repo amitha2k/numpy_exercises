{
  "cells": [
    {
      "cell_type": "markdown",
      "metadata": {
        "id": "view-in-github",
        "colab_type": "text"
      },
      "source": [
        "<a href=\"https://colab.research.google.com/github/amitha2k/numpy_exercises/blob/main/13_Statistics.ipynb\" target=\"_parent\"><img src=\"https://colab.research.google.com/assets/colab-badge.svg\" alt=\"Open In Colab\"/></a>"
      ]
    },
    {
      "cell_type": "markdown",
      "metadata": {
        "id": "nZ6iAGcpSc46"
      },
      "source": [
        "# Statistics"
      ]
    },
    {
      "cell_type": "code",
      "execution_count": null,
      "metadata": {
        "collapsed": true,
        "id": "DlnqZLuLSc4_"
      },
      "outputs": [],
      "source": [
        "__author__ = \"kyubyong. kbpark.linguist@gmail.com\""
      ]
    },
    {
      "cell_type": "code",
      "execution_count": 1,
      "metadata": {
        "collapsed": true,
        "id": "nrzzkR5_Sc5B"
      },
      "outputs": [],
      "source": [
        "import numpy as np"
      ]
    },
    {
      "cell_type": "code",
      "execution_count": null,
      "metadata": {
        "id": "SvX5XfMxSc5C",
        "outputId": "23fb3fda-a164-4c2f-8626-b4c8c9666bcb",
        "colab": {
          "base_uri": "https://localhost:8080/",
          "height": 35
        }
      },
      "outputs": [
        {
          "output_type": "execute_result",
          "data": {
            "text/plain": [
              "'1.21.6'"
            ],
            "application/vnd.google.colaboratory.intrinsic+json": {
              "type": "string"
            }
          },
          "metadata": {},
          "execution_count": 3
        }
      ],
      "source": [
        "np.__version__"
      ]
    },
    {
      "cell_type": "markdown",
      "metadata": {
        "id": "Jfx81F3NSc5D"
      },
      "source": [
        "## Order statistics"
      ]
    },
    {
      "cell_type": "markdown",
      "metadata": {
        "id": "7m1OquIbSc5E"
      },
      "source": [
        "Q1. Return the minimum value of x along the second axis."
      ]
    },
    {
      "cell_type": "code",
      "execution_count": null,
      "metadata": {
        "colab": {
          "base_uri": "https://localhost:8080/",
          "height": 105
        },
        "id": "C1J-2oviSc5E",
        "outputId": "3f3a2c60-05d1-4cef-fdb6-d4147b69ac6c"
      },
      "outputs": [
        {
          "output_type": "stream",
          "name": "stdout",
          "text": [
            "x=\n",
            " [[0 1]\n",
            " [2 3]]\n",
            "x= [0 2]\n"
          ]
        },
        {
          "output_type": "execute_result",
          "data": {
            "text/plain": [
              "'\\nx=\\n [[0 1]\\n [2 3]]\\nans=\\n [0 2]\\n'"
            ],
            "application/vnd.google.colaboratory.intrinsic+json": {
              "type": "string"
            }
          },
          "metadata": {},
          "execution_count": 3
        }
      ],
      "source": [
        "x = np.arange(4).reshape((2, 2))\n",
        "print(\"x=\\n\", x)\n",
        "print(\"x=\", np.min(x,1))\n",
        "'''\n",
        "x=\n",
        " [[0 1]\n",
        " [2 3]]\n",
        "ans=\n",
        " [0 2]\n",
        "'''"
      ]
    },
    {
      "cell_type": "markdown",
      "metadata": {
        "id": "Zb84mcRjSc5F"
      },
      "source": [
        "Q2. Return the maximum value of x along the second axis. Reduce the second axis to the dimension with size one."
      ]
    },
    {
      "cell_type": "code",
      "execution_count": null,
      "metadata": {
        "colab": {
          "base_uri": "https://localhost:8080/",
          "height": 122
        },
        "id": "P7AuoH6XSc5G",
        "outputId": "cc1d791d-d250-4e0b-9326-079ad27d8e17"
      },
      "outputs": [
        {
          "output_type": "stream",
          "name": "stdout",
          "text": [
            "x=\n",
            " [[0 1]\n",
            " [2 3]]\n",
            "ans= [[1]\n",
            " [3]]\n"
          ]
        },
        {
          "output_type": "execute_result",
          "data": {
            "text/plain": [
              "'\\nx=\\n [[0 1]\\n [2 3]]\\nans=\\n [[1]\\n [3]]\\n'"
            ],
            "application/vnd.google.colaboratory.intrinsic+json": {
              "type": "string"
            }
          },
          "metadata": {},
          "execution_count": 4
        }
      ],
      "source": [
        "x = np.arange(4).reshape((2, 2))\n",
        "print(\"x=\\n\", x)\n",
        "print(\"ans=\", np.amax(x,1,keepdims=True))\n",
        "'''\n",
        "x=\n",
        " [[0 1]\n",
        " [2 3]]\n",
        "ans=\n",
        " [[1]\n",
        " [3]]\n",
        "'''"
      ]
    },
    {
      "cell_type": "markdown",
      "metadata": {
        "id": "VyALXkbsSc5H"
      },
      "source": [
        "Q3. Calcuate the difference between the maximum and the minimum of x along the second axis."
      ]
    },
    {
      "cell_type": "code",
      "execution_count": null,
      "metadata": {
        "colab": {
          "base_uri": "https://localhost:8080/",
          "height": 105
        },
        "id": "JtHrN-mfSc5I",
        "outputId": "d2737814-d28f-41cb-ee05-7cd59a68daf3"
      },
      "outputs": [
        {
          "output_type": "stream",
          "name": "stdout",
          "text": [
            "x=\n",
            " [[0 1 2 3 4]\n",
            " [5 6 7 8 9]]\n",
            "ans= [4 4]\n"
          ]
        },
        {
          "output_type": "execute_result",
          "data": {
            "text/plain": [
              "'\\nx=\\n [[0 1 2 3 4]\\n [5 6 7 8 9]]\\nans=\\n [4 4]\\n'"
            ],
            "application/vnd.google.colaboratory.intrinsic+json": {
              "type": "string"
            }
          },
          "metadata": {},
          "execution_count": 5
        }
      ],
      "source": [
        "x = np.arange(10).reshape((2, 5))\n",
        "print(\"x=\\n\", x)\n",
        "print(\"ans=\", np.ptp(x,axis=1))\n",
        "\n",
        "'''\n",
        "x=\n",
        " [[0 1 2 3 4]\n",
        " [5 6 7 8 9]]\n",
        "ans=\n",
        " [4 4]\n",
        "'''"
      ]
    },
    {
      "cell_type": "markdown",
      "metadata": {
        "id": "JE2rmVuySc5I"
      },
      "source": [
        "Q4. Compute the 75th percentile of x along the second axis."
      ]
    },
    {
      "cell_type": "code",
      "execution_count": null,
      "metadata": {
        "colab": {
          "base_uri": "https://localhost:8080/",
          "height": 105
        },
        "id": "2qnvVv9YSc5J",
        "outputId": "d58f422d-7920-4112-f729-9570b90b253f"
      },
      "outputs": [
        {
          "output_type": "stream",
          "name": "stdout",
          "text": [
            "x=\n",
            " [[ 1  2  3  4  5]\n",
            " [ 6  7  8  9 10]]\n",
            "ans= [4. 9.]\n"
          ]
        },
        {
          "output_type": "execute_result",
          "data": {
            "text/plain": [
              "'\\nx=\\n [[ 1  2  3  4  5]\\n [ 6  7  8  9 10]]\\nans=\\n [ 4.  9.]\\n'"
            ],
            "application/vnd.google.colaboratory.intrinsic+json": {
              "type": "string"
            }
          },
          "metadata": {},
          "execution_count": 7
        }
      ],
      "source": [
        "x = np.arange(1, 11).reshape((2, 5))\n",
        "print(\"x=\\n\", x)\n",
        "print(\"ans=\", np.percentile(x,75,axis=1))\n",
        "'''\n",
        "x=\n",
        " [[ 1  2  3  4  5]\n",
        " [ 6  7  8  9 10]]\n",
        "ans=\n",
        " [ 4.  9.]\n",
        "'''"
      ]
    },
    {
      "cell_type": "markdown",
      "metadata": {
        "id": "OcNKU3NCSc5J"
      },
      "source": [
        "## Averages and variances"
      ]
    },
    {
      "cell_type": "markdown",
      "metadata": {
        "id": "2-buc86USc5K"
      },
      "source": [
        "Q5. Compute the median of flattened x."
      ]
    },
    {
      "cell_type": "code",
      "execution_count": null,
      "metadata": {
        "colab": {
          "base_uri": "https://localhost:8080/"
        },
        "id": "mY5pmMVCSc5K",
        "outputId": "25dc7dda-5bde-4af2-f8a4-f03fe882339f"
      },
      "outputs": [
        {
          "output_type": "stream",
          "name": "stdout",
          "text": [
            "x=\n",
            " [[1 2 3]\n",
            " [4 5 6]\n",
            " [7 8 9]]\n",
            "ans= 5.0\n"
          ]
        }
      ],
      "source": [
        "x = np.arange(1, 10).reshape((3, 3))\n",
        "print(\"x=\\n\", x)\n",
        "print(\"ans=\", np.median(np.ndarray.flatten(x)))\n"
      ]
    },
    {
      "cell_type": "markdown",
      "metadata": {
        "id": "WN_LVBWfSc5L"
      },
      "source": [
        "Q6. Compute the weighted average of x."
      ]
    },
    {
      "cell_type": "code",
      "execution_count": null,
      "metadata": {
        "colab": {
          "base_uri": "https://localhost:8080/"
        },
        "id": "FTBXWJEtSc5L",
        "outputId": "89fc7f69-4c5a-4c1b-abba-4e65378b6f08"
      },
      "outputs": [
        {
          "output_type": "execute_result",
          "data": {
            "text/plain": [
              "2.6666666666666665"
            ]
          },
          "metadata": {},
          "execution_count": 10
        }
      ],
      "source": [
        "x = np.arange(5)\n",
        "weights = np.arange(1, 6)\n",
        "np.average(x,weights=weights)"
      ]
    },
    {
      "cell_type": "markdown",
      "metadata": {
        "id": "PEgjEUpnSc5L"
      },
      "source": [
        "Q7. Compute the mean, standard deviation, and variance of x along the second axis."
      ]
    },
    {
      "cell_type": "code",
      "execution_count": null,
      "metadata": {
        "colab": {
          "base_uri": "https://localhost:8080/",
          "height": 122
        },
        "id": "48-e2GM6Sc5M",
        "outputId": "17daef98-e743-470c-add6-79429e7eaaf8"
      },
      "outputs": [
        {
          "output_type": "stream",
          "name": "stdout",
          "text": [
            "x=\n",
            " [0 1 2 3 4]\n",
            "mean= 2.0\n",
            "std= 1.4142135623730951\n",
            "variance= 2.0\n"
          ]
        },
        {
          "output_type": "execute_result",
          "data": {
            "text/plain": [
              "'\\nx=\\n [0 1 2 3 4]\\nmean=\\n 2.0\\nstd=\\n 1.41421356237\\nvariance=\\n 2.0\\n'"
            ],
            "application/vnd.google.colaboratory.intrinsic+json": {
              "type": "string"
            }
          },
          "metadata": {},
          "execution_count": 12
        }
      ],
      "source": [
        "x = np.arange(5)\n",
        "print(\"x=\\n\",x)\n",
        "print(\"mean=\", np.mean(x))\n",
        "print(\"std=\", np.std(x))\n",
        "print(\"variance=\",np.var(x))\n",
        "'''\n",
        "x=\n",
        " [0 1 2 3 4]\n",
        "mean=\n",
        " 2.0\n",
        "std=\n",
        " 1.41421356237\n",
        "variance=\n",
        " 2.0\n",
        "'''\n"
      ]
    },
    {
      "cell_type": "markdown",
      "metadata": {
        "id": "kEYZ0979Sc5M"
      },
      "source": [
        "## Correlating"
      ]
    },
    {
      "cell_type": "markdown",
      "metadata": {
        "id": "zmae0pHnSc5M"
      },
      "source": [
        "Q8. Compute the covariance matrix of x and y."
      ]
    },
    {
      "cell_type": "code",
      "execution_count": null,
      "metadata": {
        "colab": {
          "base_uri": "https://localhost:8080/",
          "height": 35
        },
        "id": "0j0ChBm-Sc5N",
        "outputId": "4ad48916-93fd-469c-c7fc-2346bcf5cd48"
      },
      "outputs": [
        {
          "output_type": "execute_result",
          "data": {
            "text/plain": [
              "'\\nans=\\n [[ 1. -1.]\\n [-1.  1.]]\\n'"
            ],
            "application/vnd.google.colaboratory.intrinsic+json": {
              "type": "string"
            }
          },
          "metadata": {},
          "execution_count": 13
        }
      ],
      "source": [
        "x = np.array([0, 1, 2])\n",
        "y = np.array([2, 1, 0])\n",
        "np.cov(x,y)\n",
        "'''\n",
        "ans=\n",
        " [[ 1. -1.]\n",
        " [-1.  1.]]\n",
        "'''"
      ]
    },
    {
      "cell_type": "markdown",
      "metadata": {
        "id": "9nDa7fSJSc5N"
      },
      "source": [
        "Q9. In the above covariance matrix, what does the -1 mean?"
      ]
    },
    {
      "cell_type": "markdown",
      "metadata": {
        "id": "4k4a_vuySc5O"
      },
      "source": [
        ""
      ]
    },
    {
      "cell_type": "markdown",
      "metadata": {
        "id": "fcOpq81ySc5O"
      },
      "source": [
        "Q10. Compute Pearson product-moment correlation coefficients of x and y."
      ]
    },
    {
      "cell_type": "code",
      "execution_count": null,
      "metadata": {
        "id": "91-4Y75iSc5O",
        "outputId": "8675ff3d-d30e-478b-fb02-85d7f90897f0",
        "colab": {
          "base_uri": "https://localhost:8080/"
        }
      },
      "outputs": [
        {
          "output_type": "stream",
          "name": "stdout",
          "text": [
            "ans= [[1.         0.92857143]\n",
            " [0.92857143 1.        ]]\n"
          ]
        }
      ],
      "source": [
        "x = np.array([0, 1, 3])\n",
        "y = np.array([2, 4, 5])\n",
        "'''\n",
        "ans=\n",
        " [[ 1.          0.92857143]\n",
        " [ 0.92857143  1.        ]]\n",
        "'''\n",
        "print('ans=', np.corrcoef(x,y))\n"
      ]
    },
    {
      "cell_type": "markdown",
      "metadata": {
        "id": "4tSdrur5Sc5O"
      },
      "source": [
        "Q11. Compute cross-correlation of x and y."
      ]
    },
    {
      "cell_type": "code",
      "execution_count": null,
      "metadata": {
        "id": "xAmVJX2LSc5P",
        "outputId": "aa23890f-ed8a-49e7-ace0-9dd07df3e044",
        "colab": {
          "base_uri": "https://localhost:8080/"
        }
      },
      "outputs": [
        {
          "output_type": "stream",
          "name": "stdout",
          "text": [
            "ans= [19]\n"
          ]
        }
      ],
      "source": [
        "x = np.array([0, 1, 3])\n",
        "y = np.array([2, 4, 5])\n",
        "print('ans=', np.correlate(x,y))\n",
        "\n"
      ]
    },
    {
      "cell_type": "markdown",
      "metadata": {
        "id": "GK6A78eESc5P"
      },
      "source": [
        "## Histograms"
      ]
    },
    {
      "cell_type": "markdown",
      "metadata": {
        "id": "QRfTOqarSc5P"
      },
      "source": [
        "Q12. Compute the histogram of x against the bins."
      ]
    },
    {
      "cell_type": "code",
      "execution_count": 5,
      "metadata": {
        "id": "_VamFCPLSc5Q",
        "outputId": "efd9e9fc-d711-4361-8f9d-654357603237",
        "colab": {
          "base_uri": "https://localhost:8080/",
          "height": 300
        }
      },
      "outputs": [
        {
          "output_type": "stream",
          "name": "stdout",
          "text": [
            "ans=\n",
            " (array([2, 3, 1]), array([0, 1, 2, 3]))\n"
          ]
        },
        {
          "output_type": "display_data",
          "data": {
            "text/plain": [
              "<Figure size 432x288 with 1 Axes>"
            ],
            "image/png": "[encoded data removed]"
          },
          "metadata": {
            "needs_background": "light"
          }
        }
      ],
      "source": [
        "x = np.array([0.5, 0.7, 1.0, 1.2, 1.3, 2.1])\n",
        "bins = np.array([0, 1, 2, 3])\n",
        "print(\"ans=\\n\", np.histogram(x, bins))\n",
        "\n",
        "import matplotlib.pyplot as plt\n",
        "%matplotlib inline\n",
        "plt.hist(x, bins=bins)\n",
        "plt.show()"
      ]
    },
    {
      "cell_type": "markdown",
      "metadata": {
        "id": "DxwalaEKSc5Q"
      },
      "source": [
        "Q13. Compute the 2d histogram of x and y."
      ]
    },
    {
      "cell_type": "code",
      "execution_count": 6,
      "metadata": {
        "id": "e7gY0dQ6Sc5Q",
        "outputId": "3d5f83f4-7ea2-4f04-9f20-eed7e5a55331",
        "colab": {
          "base_uri": "https://localhost:8080/",
          "height": 459
        }
      },
      "outputs": [
        {
          "output_type": "stream",
          "name": "stdout",
          "text": [
            "ans= (array([[3., 0., 0., 0., 0., 0., 0., 0., 0., 0.],\n",
            "       [0., 0., 0., 0., 0., 0., 0., 0., 0., 0.],\n",
            "       [0., 0., 0., 0., 0., 0., 0., 0., 0., 0.],\n",
            "       [0., 0., 0., 0., 0., 0., 0., 0., 0., 0.],\n",
            "       [0., 0., 0., 1., 0., 0., 0., 0., 0., 0.],\n",
            "       [0., 0., 0., 1., 0., 0., 0., 0., 0., 0.],\n",
            "       [0., 0., 0., 0., 0., 0., 0., 0., 0., 0.],\n",
            "       [0., 0., 0., 0., 0., 0., 0., 0., 0., 0.],\n",
            "       [0., 0., 0., 0., 0., 0., 0., 0., 0., 0.],\n",
            "       [0., 0., 0., 0., 0., 0., 1., 0., 0., 1.]]), array([0.  , 0.21, 0.42, 0.63, 0.84, 1.05, 1.26, 1.47, 1.68, 1.89, 2.1 ]), array([0.  , 0.33, 0.66, 0.99, 1.32, 1.65, 1.98, 2.31, 2.64, 2.97, 3.3 ]))\n"
          ]
        },
        {
          "output_type": "display_data",
          "data": {
            "text/plain": [
              "<Figure size 432x288 with 1 Axes>"
            ],
            "image/png": "[encoded data removed]"
          },
          "metadata": {
            "needs_background": "light"
          }
        }
      ],
      "source": [
        "xedges = [0, 1, 2, 3]\n",
        "yedges = [0, 1, 2, 3, 4]\n",
        "x = np.array([0, 0.1, 0.2, 1., 1.1, 2., 2.1])\n",
        "y = np.array([0, 0.1, 0.2, 1., 1.1, 2., 3.3])\n",
        "\n",
        "print('ans=', np.histogram2d(x,y))\n",
        "\n",
        "plt.scatter(x, y)\n",
        "plt.grid()"
      ]
    },
    {
      "cell_type": "markdown",
      "metadata": {
        "id": "sWiioehUSc5R"
      },
      "source": [
        "Q14. Count number of occurrences of 0 through 7 in x."
      ]
    },
    {
      "cell_type": "code",
      "execution_count": 3,
      "metadata": {
        "id": "HeAeGfMDSc5R",
        "outputId": "bb2d8242-a195-4136-b42b-6970bea4432f",
        "colab": {
          "base_uri": "https://localhost:8080/"
        }
      },
      "outputs": [
        {
          "output_type": "stream",
          "name": "stdout",
          "text": [
            "ans= [1 3 1 1 0 0 0 1]\n"
          ]
        }
      ],
      "source": [
        "x = np.array([0, 1, 1, 3, 2, 1, 7])\n",
        "print('ans=',np.bincount(x))\n"
      ]
    },
    {
      "cell_type": "markdown",
      "metadata": {
        "id": "c2S6VEWmSc5R"
      },
      "source": [
        "Q15. Return the indices of the bins to which each value in x belongs."
      ]
    },
    {
      "cell_type": "code",
      "execution_count": 2,
      "metadata": {
        "id": "9xlswAWlSc5S",
        "outputId": "7686f073-81cf-4441-e465-eb5a0d8a6fb3",
        "colab": {
          "base_uri": "https://localhost:8080/"
        }
      },
      "outputs": [
        {
          "output_type": "execute_result",
          "data": {
            "text/plain": [
              "array([1, 4, 3, 2])"
            ]
          },
          "metadata": {},
          "execution_count": 2
        }
      ],
      "source": [
        "x = np.array([0.2, 6.4, 3.0, 1.6])\n",
        "bins = np.array([0.0, 1.0, 2.5, 4.0, 10.0])\n",
        "np.digitize(x,bins)\n"
      ]
    },
    {
      "cell_type": "code",
      "execution_count": null,
      "metadata": {
        "collapsed": true,
        "id": "Nlu42KsfSc5S"
      },
      "outputs": [],
      "source": [
        ""
      ]
    }
  ],
  "metadata": {
    "anaconda-cloud": {},
    "kernelspec": {
      "display_name": "Python [conda root]",
      "language": "python",
      "name": "conda-root-py"
    },
    "language_info": {
      "codemirror_mode": {
        "name": "ipython",
        "version": 3
      },
      "file_extension": ".py",
      "mimetype": "text/x-python",
      "name": "python",
      "nbconvert_exporter": "python",
      "pygments_lexer": "ipython3",
      "version": "3.5.2"
    },
    "colab": {
      "name": "13_Statistics.ipynb",
      "provenance": [],
      "include_colab_link": true
    }
  },
  "nbformat": 4,
  "nbformat_minor": 0
}