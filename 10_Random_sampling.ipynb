{
  "cells": [
    {
      "cell_type": "markdown",
      "metadata": {
        "id": "tO-Ei3i_nMKq"
      },
      "source": [
        "# Random Sampling"
      ]
    },
    {
      "cell_type": "code",
      "execution_count": null,
      "metadata": {
        "collapsed": true,
        "id": "5_i4wqMhnMK1"
      },
      "outputs": [],
      "source": [
        "import numpy as np"
      ]
    },
    {
      "cell_type": "code",
      "execution_count": null,
      "metadata": {
        "id": "38k8k4ZEnMK3",
        "outputId": "bd24ecd7-4f8c-4de1-827f-19d5fafb6c6a"
      },
      "outputs": [
        {
          "data": {
            "text/plain": [
              "'1.11.2'"
            ]
          },
          "execution_count": 3,
          "metadata": {},
          "output_type": "execute_result"
        }
      ],
      "source": [
        "np.__version__"
      ]
    },
    {
      "cell_type": "code",
      "execution_count": null,
      "metadata": {
        "id": "9gJWSytBnMK5"
      },
      "outputs": [],
      "source": [
        "__author__ = 'kyubyong. longinglove@nate.com'"
      ]
    },
    {
      "cell_type": "markdown",
      "metadata": {
        "id": "ca5WGJE_nMK5"
      },
      "source": [
        "## Simple random data"
      ]
    },
    {
      "cell_type": "markdown",
      "metadata": {
        "id": "hQ-ea8fcnMK6"
      },
      "source": [
        "Q1. Create an array of shape (3, 2) and populate it with random samples from a uniform distribution over [0, 1)."
      ]
    },
    {
      "cell_type": "code",
      "execution_count": null,
      "metadata": {
        "id": "iSXmgI_tnMK8",
        "outputId": "f793c401-42a6-479a-b2ec-4cbe083e0a5d"
      },
      "outputs": [
        {
          "data": {
            "text/plain": [
              "array([[ 0.13879034,  0.71300174],\n",
              "       [ 0.08121322,  0.00393554],\n",
              "       [ 0.02349471,  0.56677474]])"
            ]
          },
          "execution_count": 49,
          "metadata": {},
          "output_type": "execute_result"
        }
      ],
      "source": [
        ""
      ]
    },
    {
      "cell_type": "markdown",
      "metadata": {
        "id": "zwRlCp-OnMK_"
      },
      "source": [
        "Q2. Create an array of shape (1000, 1000) and populate it with random samples from a standard normal distribution. And verify that the mean and standard deviation is close enough to 0 and 1 repectively."
      ]
    },
    {
      "cell_type": "code",
      "execution_count": null,
      "metadata": {
        "id": "C0Xif3uCnMLC",
        "outputId": "09147145-a377-48f2-a569-834cb1be3b8a"
      },
      "outputs": [
        {
          "name": "stdout",
          "output_type": "stream",
          "text": [
            "-0.00110028519551\n",
            "0.999683483393\n"
          ]
        }
      ],
      "source": [
        ""
      ]
    },
    {
      "cell_type": "markdown",
      "metadata": {
        "id": "mujFOBe1nMLC"
      },
      "source": [
        "Q3. Create an array of shape (3, 2) and populate it with random integers ranging from 0 to 3 (inclusive) from a discrete uniform distribution."
      ]
    },
    {
      "cell_type": "code",
      "execution_count": null,
      "metadata": {
        "id": "Eg5FzwWRnMLD",
        "outputId": "a7ed61ac-96fa-4117-b404-bf9b52b30e1e"
      },
      "outputs": [
        {
          "data": {
            "text/plain": [
              "array([[1, 3],\n",
              "       [3, 0],\n",
              "       [0, 0]])"
            ]
          },
          "execution_count": 44,
          "metadata": {},
          "output_type": "execute_result"
        }
      ],
      "source": [
        ""
      ]
    },
    {
      "cell_type": "markdown",
      "metadata": {
        "id": "A5kaxEFGnMLE"
      },
      "source": [
        "Q4. Extract 1 elements from x randomly such that each of them would be associated with probabilities .3, .5, .2. Then print the result 10 times."
      ]
    },
    {
      "cell_type": "code",
      "execution_count": null,
      "metadata": {
        "id": "1hqcbS9WnMLF",
        "outputId": "b0e536c7-1b25-462b-d4f1-7aeb83b58a23"
      },
      "outputs": [
        {
          "name": "stdout",
          "output_type": "stream",
          "text": [
            "5 out of 10\n",
            "2 out of 10\n",
            "3 out of 10\n",
            "5 out of 10\n",
            "2 out of 10\n",
            "5 out of 10\n",
            "2 out of 10\n",
            "2 out of 10\n",
            "2 out of 10\n",
            "5 out of 10\n"
          ]
        }
      ],
      "source": [
        "x = [b'3 out of 10', b'5 out of 10', b'2 out of 10']\n"
      ]
    },
    {
      "cell_type": "markdown",
      "metadata": {
        "id": "Hz5gws55nMLG"
      },
      "source": [
        "Q5. Extract 3 different integers from 0 to 9 randomly with the same probabilities."
      ]
    },
    {
      "cell_type": "code",
      "execution_count": null,
      "metadata": {
        "id": "0t6W2CtlnMLH",
        "outputId": "70796c8f-fd8e-48ba-88eb-911193ed3774"
      },
      "outputs": [
        {
          "data": {
            "text/plain": [
              "array([5, 4, 0])"
            ]
          },
          "execution_count": 66,
          "metadata": {},
          "output_type": "execute_result"
        }
      ],
      "source": [
        ""
      ]
    },
    {
      "cell_type": "markdown",
      "metadata": {
        "id": "c3f6TTKunMLH"
      },
      "source": [
        "## Permutations"
      ]
    },
    {
      "cell_type": "markdown",
      "metadata": {
        "id": "mPJc0YtPnMLI"
      },
      "source": [
        "Q6. Shuffle numbers between 0 and 9 (inclusive)."
      ]
    },
    {
      "cell_type": "code",
      "execution_count": null,
      "metadata": {
        "id": "a9DDZ_y3nMLI",
        "outputId": "77e9d64f-8819-4a96-9cee-acc3e9376787"
      },
      "outputs": [
        {
          "name": "stdout",
          "output_type": "stream",
          "text": [
            "[2 3 8 4 5 1 0 6 9 7]\n"
          ]
        }
      ],
      "source": [
        ""
      ]
    },
    {
      "cell_type": "code",
      "execution_count": null,
      "metadata": {
        "id": "UCy90npZnMLI",
        "outputId": "107c7016-d0f9-4e39-8a2d-3a80143aca69"
      },
      "outputs": [
        {
          "name": "stdout",
          "output_type": "stream",
          "text": [
            "[5 2 7 4 1 0 6 8 9 3]\n"
          ]
        }
      ],
      "source": [
        "# Or\n"
      ]
    },
    {
      "cell_type": "markdown",
      "metadata": {
        "id": "k1zyXUAvnMLJ"
      },
      "source": [
        "## Random generator"
      ]
    },
    {
      "cell_type": "markdown",
      "metadata": {
        "id": "_xMY6zLJnMLK"
      },
      "source": [
        "Q7. Assign number 10 to the seed of the random generator so that you can get the same value next time."
      ]
    },
    {
      "cell_type": "code",
      "execution_count": null,
      "metadata": {
        "collapsed": true,
        "id": "Zrm-sBuQnMLK"
      },
      "outputs": [],
      "source": [
        ""
      ]
    }
  ],
  "metadata": {
    "kernelspec": {
      "display_name": "Python 2",
      "language": "python",
      "name": "python2"
    },
    "language_info": {
      "codemirror_mode": {
        "name": "ipython",
        "version": 2
      },
      "file_extension": ".py",
      "mimetype": "text/x-python",
      "name": "python",
      "nbconvert_exporter": "python",
      "pygments_lexer": "ipython2",
      "version": "2.7.10"
    },
    "colab": {
      "name": "10_Random_sampling.ipynb",
      "provenance": []
    }
  },
  "nbformat": 4,
  "nbformat_minor": 0
}