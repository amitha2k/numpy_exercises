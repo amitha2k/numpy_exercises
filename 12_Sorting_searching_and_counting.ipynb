{
  "cells": [
    {
      "cell_type": "markdown",
      "metadata": {
        "id": "view-in-github",
        "colab_type": "text"
      },
      "source": [
        "<a href=\"https://colab.research.google.com/github/amitha2k/numpy_exercises/blob/main/12_Sorting_searching_and_counting.ipynb\" target=\"_parent\"><img src=\"https://colab.research.google.com/assets/colab-badge.svg\" alt=\"Open In Colab\"/></a>"
      ]
    },
    {
      "cell_type": "markdown",
      "metadata": {
        "id": "VSRev-YNB8t6"
      },
      "source": [
        "# Soring, searching, and counting"
      ]
    },
    {
      "cell_type": "code",
      "execution_count": null,
      "metadata": {
        "collapsed": true,
        "id": "UkfzRp8hB8uD"
      },
      "outputs": [],
      "source": [
        "import numpy as np"
      ]
    },
    {
      "cell_type": "code",
      "execution_count": null,
      "metadata": {
        "colab": {
          "base_uri": "https://localhost:8080/",
          "height": 35
        },
        "id": "3WRAgY4WB8uH",
        "outputId": "384ca44e-757f-43d0-8cb2-e4c71fa81f0c"
      },
      "outputs": [
        {
          "output_type": "execute_result",
          "data": {
            "text/plain": [
              "'1.21.6'"
            ],
            "application/vnd.google.colaboratory.intrinsic+json": {
              "type": "string"
            }
          },
          "metadata": {},
          "execution_count": 2
        }
      ],
      "source": [
        "np.__version__"
      ]
    },
    {
      "cell_type": "code",
      "execution_count": null,
      "metadata": {
        "collapsed": true,
        "id": "Y9gPHzDjB8uL"
      },
      "outputs": [],
      "source": [
        "author = 'kyubyong. longinglove@nate.com'"
      ]
    },
    {
      "cell_type": "markdown",
      "metadata": {
        "id": "viffV3CXB8uN"
      },
      "source": [
        "## Sorting"
      ]
    },
    {
      "cell_type": "markdown",
      "metadata": {
        "id": "wJbpmDL8B8uO"
      },
      "source": [
        "Q1. Sort x along the second axis."
      ]
    },
    {
      "cell_type": "code",
      "execution_count": null,
      "metadata": {
        "id": "XZO1SZnJB8uP"
      },
      "outputs": [],
      "source": [
        "x = np.array([[1,4],[3,1]])\n",
        "np.ndarray.sort(x)"
      ]
    },
    {
      "cell_type": "markdown",
      "metadata": {
        "id": "3s6tzfxkB8uQ"
      },
      "source": [
        "Q2. Sort pairs of surnames and first names and return their indices. (first by surname, then by name)."
      ]
    },
    {
      "cell_type": "code",
      "execution_count": null,
      "metadata": {
        "colab": {
          "base_uri": "https://localhost:8080/"
        },
        "id": "Z3KXRh8pB8uS",
        "outputId": "56669123-9fcb-4e52-be2a-e3377f7ce39e"
      },
      "outputs": [
        {
          "output_type": "execute_result",
          "data": {
            "text/plain": [
              "array([1, 2, 0])"
            ]
          },
          "metadata": {},
          "execution_count": 6
        }
      ],
      "source": [
        "surnames =    ('Hertz',    'Galilei', 'Hertz')\n",
        "first_names = ('Heinrich', 'Galileo', 'Gustav')\n",
        "np.lexsort((surnames, first_names))"
      ]
    },
    {
      "cell_type": "markdown",
      "metadata": {
        "id": "A-5hXvyKB8uU"
      },
      "source": [
        "Q3. Get the indices that would sort x along the second axis."
      ]
    },
    {
      "cell_type": "code",
      "execution_count": null,
      "metadata": {
        "colab": {
          "base_uri": "https://localhost:8080/"
        },
        "id": "-k724tKYB8uW",
        "outputId": "b4496690-d6fc-42ca-8ce7-63f04cb7a4c6"
      },
      "outputs": [
        {
          "output_type": "execute_result",
          "data": {
            "text/plain": [
              "array([[0, 1],\n",
              "       [1, 0]])"
            ]
          },
          "metadata": {},
          "execution_count": 7
        }
      ],
      "source": [
        "x = np.array([[1,4],[3,1]])\n",
        "np.argsort(x)"
      ]
    },
    {
      "cell_type": "markdown",
      "metadata": {
        "id": "-MmcaA0WB8u2"
      },
      "source": [
        "Q4. Create an array such that its fifth element would be the same as the element of sorted x, and it divide other elements by their value."
      ]
    },
    {
      "cell_type": "code",
      "execution_count": null,
      "metadata": {
        "colab": {
          "base_uri": "https://localhost:8080/"
        },
        "id": "NEDvMqB_B8u-",
        "outputId": "c78479ad-1af9-4bf2-d346-ec304bfd844b"
      },
      "outputs": [
        {
          "output_type": "stream",
          "name": "stdout",
          "text": [
            "x = [0 1 2 4 3 5 8 6 9 7]\n"
          ]
        }
      ],
      "source": [
        "x = np.random.permutation(10)\n",
        "x = np.partition(x, 5)\n",
        "print (\"x =\", x)\n"
      ]
    },
    {
      "cell_type": "markdown",
      "metadata": {
        "id": "phv_lFGmB8vA"
      },
      "source": [
        "Q5. Create the indices of an array such that its third element would be the same as the element of sorted x, and it divide other elements by their value."
      ]
    },
    {
      "cell_type": "code",
      "execution_count": null,
      "metadata": {
        "colab": {
          "base_uri": "https://localhost:8080/"
        },
        "id": "5otKY9ZHB8vB",
        "outputId": "48dc7981-e29c-48bf-8e77-9916b0abb50c"
      },
      "outputs": [
        {
          "output_type": "stream",
          "name": "stdout",
          "text": [
            "[9 5 0 1 6 3 2 7 4 8]\n",
            "x = [2 3 6 5 8 1 4 7 9 0]\n"
          ]
        }
      ],
      "source": [
        "x = np.random.permutation(10)\n",
        "print (x)\n",
        "x = np.argpartition(x,3)\n",
        "print (\"x =\", x)\n"
      ]
    },
    {
      "cell_type": "markdown",
      "metadata": {
        "id": "fPEF27-aB8vB"
      },
      "source": [
        "## Searching"
      ]
    },
    {
      "cell_type": "markdown",
      "metadata": {
        "id": "Q0chxjAVB8vB"
      },
      "source": [
        "Q6. Get the maximum and minimum values and their indices of x along the second axis."
      ]
    },
    {
      "cell_type": "code",
      "execution_count": null,
      "metadata": {
        "id": "5rFB2umiB8vC",
        "outputId": "f72bd86a-488f-49f6-b056-45326df6896b",
        "colab": {
          "base_uri": "https://localhost:8080/",
          "height": 140
        }
      },
      "outputs": [
        {
          "output_type": "stream",
          "name": "stdout",
          "text": [
            "x = [[5 9 0 3 6]\n",
            " [2 7 4 1 8]]\n",
            "maximum values= [9 8]\n",
            "max indices= [1 4]\n",
            "minimum values= [0 1]\n",
            "min indices= [2 3]\n"
          ]
        },
        {
          "output_type": "execute_result",
          "data": {
            "text/plain": [
              "'\\nx = [[0 5 9 8 2]\\n [3 7 4 1 6]]\\nmaximum values = [9 7]\\nmax indices = [2 1]\\nminimum values = [0 1]\\nmin indices = [0 3]\\n'"
            ],
            "application/vnd.google.colaboratory.intrinsic+json": {
              "type": "string"
            }
          },
          "metadata": {},
          "execution_count": 4
        }
      ],
      "source": [
        "x = np.random.permutation(10).reshape(2, 5)\n",
        "print (\"x =\", x)\n",
        "print (\"maximum values=\", np.max(x,axis=1))\n",
        "print (\"max indices=\", np.argmax(x,axis=1))\n",
        "print (\"minimum values=\", np.min(x,axis=1))\n",
        "print(\"min indices=\", np.argmin(x,axis=1))\n",
        "'''\n",
        "x = [[0 5 9 8 2]\n",
        " [3 7 4 1 6]]\n",
        "maximum values = [9 7]\n",
        "max indices = [2 1]\n",
        "minimum values = [0 1]\n",
        "min indices = [0 3]\n",
        "'''\n"
      ]
    },
    {
      "cell_type": "markdown",
      "metadata": {
        "id": "MXjpz80GB8vD"
      },
      "source": [
        "Q7. Get the maximum and minimum values and their indices of x along the second axis, ignoring NaNs."
      ]
    },
    {
      "cell_type": "code",
      "execution_count": null,
      "metadata": {
        "id": "2UP3-C9pB8vD",
        "outputId": "d2049158-b0e3-40a8-f88d-3c4a51362b1d",
        "colab": {
          "base_uri": "https://localhost:8080/"
        }
      },
      "outputs": [
        {
          "output_type": "stream",
          "name": "stdout",
          "text": [
            "max vals ignoring nans= [4. 3.]\n",
            "max indices= [1 0]\n",
            "min vals ignoring nans= [4. 2.]\n",
            "min indices= [1 1]\n"
          ]
        }
      ],
      "source": [
        "x = np.array([[np.nan, 4], [3, 2]])\n",
        "'''\n",
        "maximum values ignoring NaNs = [ 4.  3.]\n",
        "max indices = [1 0]\n",
        "minimum values ignoring NaNs = [ 4.  2.]\n",
        "min indices = [1 1]\n",
        "'''\n",
        "print(\"max vals ignoring nans=\", np.nanmax(x,axis=1))\n",
        "print(\"max indices=\",np.nanargmax(x,axis=1))\n",
        "print(\"min vals ignoring nans=\", np.nanmin(x,axis=1))\n",
        "print(\"min indices=\",np.nanargmin(x,axis=1))"
      ]
    },
    {
      "cell_type": "markdown",
      "metadata": {
        "id": "DM2deSAkB8vE"
      },
      "source": [
        "Q8. Get the values and indices of the elements that are bigger than 2 in x.\n"
      ]
    },
    {
      "cell_type": "code",
      "execution_count": null,
      "metadata": {
        "id": "JQzy-tEcB8vE",
        "outputId": "2858926e-c28e-428c-c536-f575b429cc9d",
        "colab": {
          "base_uri": "https://localhost:8080/"
        }
      },
      "outputs": [
        {
          "output_type": "stream",
          "name": "stdout",
          "text": [
            "Values bigger than= [3 3 5]\n",
            "Their indices are (array([0, 1, 1]), array([2, 1, 2]))\n"
          ]
        }
      ],
      "source": [
        "x = np.array([[1, 2, 3], [1, 3, 5]])\n",
        "'''\n",
        "Values bigger than 2 = [3 3 5]\n",
        "Their indices are  (array([0, 1, 1], dtype=int64), array([2, 1, 2], dtype=int64))\n",
        "'''\n",
        "print(\"Values bigger than=\", x[x>2])\n",
        "print(\"Their indices are\", np.nonzero(x>2))"
      ]
    },
    {
      "cell_type": "markdown",
      "metadata": {
        "id": "6DFDXbZGB8vF"
      },
      "source": [
        "Q9. Get the indices of the elements that are bigger than 2 in the flattend x."
      ]
    },
    {
      "cell_type": "code",
      "execution_count": null,
      "metadata": {
        "id": "W1PTFTY4B8vF",
        "outputId": "20d2d4e7-894f-4cfe-b8bf-03fba0622835",
        "colab": {
          "base_uri": "https://localhost:8080/"
        }
      },
      "outputs": [
        {
          "output_type": "execute_result",
          "data": {
            "text/plain": [
              "array([2, 4, 5])"
            ]
          },
          "metadata": {},
          "execution_count": 5
        }
      ],
      "source": [
        "x = np.array([[1, 2, 3], [1, 3, 5]])\n",
        "np.flatnonzero(x>2)\n"
      ]
    },
    {
      "cell_type": "markdown",
      "metadata": {
        "id": "5MreHH0rB8vG"
      },
      "source": [
        "Q10. Check the elements of x and return 0 if it is less than 0, otherwise the element itself."
      ]
    },
    {
      "cell_type": "code",
      "execution_count": null,
      "metadata": {
        "id": "tJ1IlG5VB8vG",
        "outputId": "e08f41ae-6923-48c4-f247-d173b4a3281d",
        "colab": {
          "base_uri": "https://localhost:8080/"
        }
      },
      "outputs": [
        {
          "output_type": "execute_result",
          "data": {
            "text/plain": [
              "array([[0, 0, 0],\n",
              "       [0, 0, 0],\n",
              "       [1, 2, 3]])"
            ]
          },
          "metadata": {},
          "execution_count": 10
        }
      ],
      "source": [
        "x = np.arange(-5, 4).reshape(3, 3)\n",
        "np.where(x>0,x,0)"
      ]
    },
    {
      "cell_type": "markdown",
      "metadata": {
        "id": "WCNctCH9B8vH"
      },
      "source": [
        "Q11. Get the indices where elements of y should be inserted to x to maintain order."
      ]
    },
    {
      "cell_type": "code",
      "execution_count": null,
      "metadata": {
        "id": "EMKbbJy5B8vH",
        "outputId": "1b4320f7-3e93-400d-8823-cf1c0549a9be",
        "colab": {
          "base_uri": "https://localhost:8080/",
          "height": 35
        }
      },
      "outputs": [
        {
          "output_type": "execute_result",
          "data": {
            "text/plain": [
              "'\\narray([0, 2, 1, 3], dtype=int64)\\n\\n'"
            ],
            "application/vnd.google.colaboratory.intrinsic+json": {
              "type": "string"
            }
          },
          "metadata": {},
          "execution_count": 11
        }
      ],
      "source": [
        "x = [1, 3, 5, 7, 9]\n",
        "y = [0, 4, 2, 6]\n",
        "np.searchsorted(x,y)\n",
        "'''\n",
        "array([0, 2, 1, 3], dtype=int64)\n",
        "\n",
        "'''\n"
      ]
    },
    {
      "cell_type": "markdown",
      "metadata": {
        "id": "jYEjTKMBB8vH"
      },
      "source": [
        "## Counting"
      ]
    },
    {
      "cell_type": "markdown",
      "metadata": {
        "id": "7XWF87GTB8vI"
      },
      "source": [
        "Q12. Get the number of nonzero elements in x."
      ]
    },
    {
      "cell_type": "code",
      "execution_count": null,
      "metadata": {
        "id": "n7V-kFXqB8vI",
        "outputId": "a7d4870a-8174-49af-a540-7d6baf61fac2"
      },
      "outputs": [
        {
          "name": "stdout",
          "output_type": "stream",
          "text": [
            "5\n"
          ]
        }
      ],
      "source": [
        "x = [[0,1,7,0,0],[3,0,0,2,19]]\n"
      ]
    },
    {
      "cell_type": "code",
      "execution_count": null,
      "metadata": {
        "id": "zZLirt4EB8vK",
        "colab": {
          "base_uri": "https://localhost:8080/"
        },
        "outputId": "b25b7d09-c961-40a9-e758-2da473167644"
      },
      "outputs": [
        {
          "output_type": "execute_result",
          "data": {
            "text/plain": [
              "5"
            ]
          },
          "metadata": {},
          "execution_count": 12
        }
      ],
      "source": [
        "np.count_nonzero(x)"
      ]
    }
  ],
  "metadata": {
    "kernelspec": {
      "display_name": "Python 2",
      "language": "python",
      "name": "python2"
    },
    "language_info": {
      "codemirror_mode": {
        "name": "ipython",
        "version": 2
      },
      "file_extension": ".py",
      "mimetype": "text/x-python",
      "name": "python",
      "nbconvert_exporter": "python",
      "pygments_lexer": "ipython2",
      "version": "2.7.10"
    },
    "colab": {
      "name": "12_Sorting_searching_and_counting.ipynb",
      "provenance": [],
      "include_colab_link": true
    }
  },
  "nbformat": 4,
  "nbformat_minor": 0
}